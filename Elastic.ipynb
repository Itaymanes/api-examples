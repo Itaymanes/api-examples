{
 "cells": [
  {
   "cell_type": "markdown",
   "metadata": {},
   "source": [
    "# Using Elasticsearch client\n",
    "\n",
    "We'll load some arXiv article data and index it with Elasticsearch.\n",
    "\n",
    "The simplest way to run Elasticsearch is to use [its docker image](https://www.elastic.co/guide/en/elasticsearch/reference/current/docker.html) to run it locally."
   ]
  },
  {
   "cell_type": "markdown",
   "metadata": {},
   "source": [
    "## Start client\n",
    "\n",
    "Put your Elasticsearch's endpoint here if you don't want to use default (localhost:9200)"
   ]
  },
  {
   "cell_type": "code",
   "execution_count": 1,
   "metadata": {
    "collapsed": true
   },
   "outputs": [],
   "source": [
    "from elasticsearch import Elasticsearch\n",
    "es = Elasticsearch()"
   ]
  },
  {
   "cell_type": "markdown",
   "metadata": {},
   "source": [
    "## Check out indices"
   ]
  },
  {
   "cell_type": "code",
   "execution_count": 2,
   "metadata": {
    "collapsed": true
   },
   "outputs": [],
   "source": [
    "es.indices.delete('arxiv_document')\n",
    "es.indices.create('arxiv_document')"
   ]
  },
  {
   "cell_type": "code",
   "execution_count": 3,
   "metadata": {},
   "outputs": [
    {
     "data": {
      "text/plain": [
       "{'.kibana': {'aliases': {}},\n",
       " '.monitoring-es-6-2018.01.13': {'aliases': {}},\n",
       " '.monitoring-es-6-2018.01.14': {'aliases': {}},\n",
       " 'arxiv_document': {'aliases': {}}}"
      ]
     },
     "execution_count": 3,
     "metadata": {},
     "output_type": "execute_result"
    }
   ],
   "source": [
    "es.indices.get_alias(\"*\")"
   ]
  },
  {
   "cell_type": "markdown",
   "metadata": {},
   "source": [
    "## Load documents from arxiv"
   ]
  },
  {
   "cell_type": "code",
   "execution_count": 4,
   "metadata": {
    "collapsed": true
   },
   "outputs": [],
   "source": [
    "import arxiv\n",
    "import json"
   ]
  },
  {
   "cell_type": "code",
   "execution_count": 5,
   "metadata": {},
   "outputs": [
    {
     "name": "stdout",
     "output_type": "stream",
     "text": [
      "Query returned 1000 results\n",
      "CPU times: user 3.72 s, sys: 36 ms, total: 3.76 s\n",
      "Wall time: 18 s\n"
     ]
    }
   ],
   "source": [
    "%%time\n",
    "\n",
    "search_query = 'machine learning'\n",
    "\n",
    "def paged_results(search_query, no_pages, per_page=1000):\n",
    "  for i in range(no_pages):\n",
    "    yield arxiv.query(\n",
    "      search_query,\n",
    "      start=i * per_page,\n",
    "      max_results=per_page)\n",
    "\n",
    "results = arxiv.query(search_query=search_query,\n",
    "                          max_results=1000)\n",
    "\n",
    "print('Query returned {} results'.format(len(results)))"
   ]
  },
  {
   "cell_type": "code",
   "execution_count": 6,
   "metadata": {},
   "outputs": [
    {
     "name": "stderr",
     "output_type": "stream",
     "text": [
      "  3%|▎         | 3/100 [00:44<23:46, 14.71s/it]"
     ]
    },
    {
     "name": "stdout",
     "output_type": "stream",
     "text": [
      "There are 0 papers for this page\n"
     ]
    }
   ],
   "source": [
    "from tqdm import tqdm\n",
    "\n",
    "no_pages = 100\n",
    "per_page = 1000 \n",
    "pages = paged_results(search_query, no_pages, per_page=per_page)\n",
    "results = []\n",
    "\n",
    "for res_page in tqdm(pages, total=no_pages):\n",
    "  l = len(res_page)\n",
    "  if (l != per_page):\n",
    "    print('There are {} papers for this page'.format(l))\n",
    "  if l == 0:\n",
    "    break\n",
    "  results += res_page"
   ]
  },
  {
   "cell_type": "code",
   "execution_count": 7,
   "metadata": {
    "collapsed": true
   },
   "outputs": [],
   "source": [
    "def make_document(content, INDEX_NAME='arxiv_document'):\n",
    "  return {\n",
    "    '_op_type': 'create',\n",
    "    '_type': 'document',\n",
    "    '_id': content['arxiv_url'],\n",
    "    '_index': INDEX_NAME,\n",
    "    **content\n",
    "  }"
   ]
  },
  {
   "cell_type": "markdown",
   "metadata": {},
   "source": [
    "## Load data to Elasticsearch"
   ]
  },
  {
   "cell_type": "code",
   "execution_count": null,
   "metadata": {
    "collapsed": true
   },
   "outputs": [],
   "source": [
    "%%time \n",
    "\n",
    "bulk(es, map(make_document, results))"
   ]
  }
 ],
 "metadata": {
  "hide_input": false,
  "kernelspec": {
   "display_name": "Python 3",
   "language": "python",
   "name": "python3"
  },
  "language_info": {
   "codemirror_mode": {
    "name": "ipython",
    "version": 3
   },
   "file_extension": ".py",
   "mimetype": "text/x-python",
   "name": "python",
   "nbconvert_exporter": "python",
   "pygments_lexer": "ipython3",
   "version": "3.5.1"
  }
 },
 "nbformat": 4,
 "nbformat_minor": 2
}

{
 "cells": [
  {
   "cell_type": "code",
   "execution_count": 1,
   "metadata": {},
   "outputs": [],
   "source": [
    "import os\n",
    "import pandas as pd\n",
    "\n",
    "from github3 import GitHub\n",
    "\n",
    "from notebook_styling import print_bold"
   ]
  },
  {
   "cell_type": "code",
   "execution_count": 2,
   "metadata": {},
   "outputs": [],
   "source": [
    "git = GitHub()"
   ]
  },
  {
   "cell_type": "code",
   "execution_count": 3,
   "metadata": {},
   "outputs": [
    {
     "name": "stdout",
     "output_type": "stream",
     "text": [
      "100\n"
     ]
    }
   ],
   "source": [
    "starred_response = list(git.search_repositories(\n",
    "  'factorization machines',\n",
    "  order='desc',\n",
    "  sort='stars',\n",
    "  number=100))\n",
    "\n",
    "print(len(starred_response))"
   ]
  },
  {
   "cell_type": "markdown",
   "metadata": {},
   "source": [
    "## Show 10 first search results"
   ]
  },
  {
   "cell_type": "markdown",
   "metadata": {},
   "source": [
    "### Show some basic information for first couple of repos"
   ]
  },
  {
   "cell_type": "code",
   "execution_count": 4,
   "metadata": {},
   "outputs": [],
   "source": [
    "starred_response_df = pd.DataFrame.from_records([r.as_dict() for r in starred_response[:10]])"
   ]
  },
  {
   "cell_type": "code",
   "execution_count": 5,
   "metadata": {},
   "outputs": [
    {
     "data": {
      "text/html": [
       "<div>\n",
       "<style scoped>\n",
       "    .dataframe tbody tr th:only-of-type {\n",
       "        vertical-align: middle;\n",
       "    }\n",
       "\n",
       "    .dataframe tbody tr th {\n",
       "        vertical-align: top;\n",
       "    }\n",
       "\n",
       "    .dataframe thead th {\n",
       "        text-align: right;\n",
       "    }\n",
       "</style>\n",
       "<table border=\"1\" class=\"dataframe\">\n",
       "  <thead>\n",
       "    <tr style=\"text-align: right;\">\n",
       "      <th></th>\n",
       "      <th>name</th>\n",
       "      <th>stargazers_count</th>\n",
       "      <th>score</th>\n",
       "      <th>updated_at</th>\n",
       "      <th>forks</th>\n",
       "    </tr>\n",
       "  </thead>\n",
       "  <tbody>\n",
       "    <tr>\n",
       "      <th>0</th>\n",
       "      <td>xlearn</td>\n",
       "      <td>2396</td>\n",
       "      <td>168.144500</td>\n",
       "      <td>2019-07-04T10:08:07Z</td>\n",
       "      <td>402</td>\n",
       "    </tr>\n",
       "    <tr>\n",
       "      <th>1</th>\n",
       "      <td>DeepCTR</td>\n",
       "      <td>1556</td>\n",
       "      <td>93.966515</td>\n",
       "      <td>2019-07-04T15:24:03Z</td>\n",
       "      <td>452</td>\n",
       "    </tr>\n",
       "    <tr>\n",
       "      <th>2</th>\n",
       "      <td>libffm</td>\n",
       "      <td>1226</td>\n",
       "      <td>212.815500</td>\n",
       "      <td>2019-07-04T08:19:19Z</td>\n",
       "      <td>419</td>\n",
       "    </tr>\n",
       "    <tr>\n",
       "      <th>3</th>\n",
       "      <td>libfm</td>\n",
       "      <td>1106</td>\n",
       "      <td>229.210240</td>\n",
       "      <td>2019-07-03T17:22:38Z</td>\n",
       "      <td>369</td>\n",
       "    </tr>\n",
       "    <tr>\n",
       "      <th>4</th>\n",
       "      <td>fastFM</td>\n",
       "      <td>747</td>\n",
       "      <td>188.994570</td>\n",
       "      <td>2019-07-03T22:02:40Z</td>\n",
       "      <td>173</td>\n",
       "    </tr>\n",
       "    <tr>\n",
       "      <th>5</th>\n",
       "      <td>pyFM</td>\n",
       "      <td>684</td>\n",
       "      <td>214.816620</td>\n",
       "      <td>2019-07-04T03:01:11Z</td>\n",
       "      <td>243</td>\n",
       "    </tr>\n",
       "    <tr>\n",
       "      <th>6</th>\n",
       "      <td>tffm</td>\n",
       "      <td>645</td>\n",
       "      <td>155.463880</td>\n",
       "      <td>2019-07-03T13:33:56Z</td>\n",
       "      <td>165</td>\n",
       "    </tr>\n",
       "    <tr>\n",
       "      <th>7</th>\n",
       "      <td>ytk-learn</td>\n",
       "      <td>300</td>\n",
       "      <td>129.648030</td>\n",
       "      <td>2019-07-01T07:25:06Z</td>\n",
       "      <td>73</td>\n",
       "    </tr>\n",
       "    <tr>\n",
       "      <th>8</th>\n",
       "      <td>neural_factorization_machine</td>\n",
       "      <td>285</td>\n",
       "      <td>158.890440</td>\n",
       "      <td>2019-07-03T06:26:24Z</td>\n",
       "      <td>121</td>\n",
       "    </tr>\n",
       "    <tr>\n",
       "      <th>9</th>\n",
       "      <td>alphaFM</td>\n",
       "      <td>277</td>\n",
       "      <td>137.919390</td>\n",
       "      <td>2019-07-04T01:55:14Z</td>\n",
       "      <td>126</td>\n",
       "    </tr>\n",
       "  </tbody>\n",
       "</table>\n",
       "</div>"
      ],
      "text/plain": [
       "                           name  stargazers_count       score  \\\n",
       "0                        xlearn              2396  168.144500   \n",
       "1                       DeepCTR              1556   93.966515   \n",
       "2                        libffm              1226  212.815500   \n",
       "3                         libfm              1106  229.210240   \n",
       "4                        fastFM               747  188.994570   \n",
       "5                          pyFM               684  214.816620   \n",
       "6                          tffm               645  155.463880   \n",
       "7                     ytk-learn               300  129.648030   \n",
       "8  neural_factorization_machine               285  158.890440   \n",
       "9                       alphaFM               277  137.919390   \n",
       "\n",
       "             updated_at  forks  \n",
       "0  2019-07-04T10:08:07Z    402  \n",
       "1  2019-07-04T15:24:03Z    452  \n",
       "2  2019-07-04T08:19:19Z    419  \n",
       "3  2019-07-03T17:22:38Z    369  \n",
       "4  2019-07-03T22:02:40Z    173  \n",
       "5  2019-07-04T03:01:11Z    243  \n",
       "6  2019-07-03T13:33:56Z    165  \n",
       "7  2019-07-01T07:25:06Z     73  \n",
       "8  2019-07-03T06:26:24Z    121  \n",
       "9  2019-07-04T01:55:14Z    126  "
      ]
     },
     "execution_count": 5,
     "metadata": {},
     "output_type": "execute_result"
    }
   ],
   "source": [
    "starred_response_df[['name', 'stargazers_count', 'score', 'updated_at', 'forks']]"
   ]
  }
 ],
 "metadata": {
  "hide_input": false,
  "kernelspec": {
   "display_name": "Python 3",
   "language": "python",
   "name": "python3"
  },
  "language_info": {
   "codemirror_mode": {
    "name": "ipython",
    "version": 3
   },
   "file_extension": ".py",
   "mimetype": "text/x-python",
   "name": "python",
   "nbconvert_exporter": "python",
   "pygments_lexer": "ipython3",
   "version": "3.6.4"
  }
 },
 "nbformat": 4,
 "nbformat_minor": 2
}

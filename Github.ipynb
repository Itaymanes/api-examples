{
 "cells": [
  {
   "cell_type": "code",
   "execution_count": 1,
   "metadata": {},
   "outputs": [],
   "source": [
    "from github3 import GitHub\n",
    "\n",
    "from notebook_styling import print_bold"
   ]
  },
  {
   "cell_type": "code",
   "execution_count": 6,
   "metadata": {},
   "outputs": [],
   "source": [
    "token = open('/home/kuba/.github/API_TOKEN').read()"
   ]
  },
  {
   "cell_type": "code",
   "execution_count": 8,
   "metadata": {},
   "outputs": [],
   "source": [
    "git = GitHub(token)"
   ]
  },
  {
   "cell_type": "code",
   "execution_count": 15,
   "metadata": {},
   "outputs": [
    {
     "name": "stdout",
     "output_type": "stream",
     "text": [
      "100\n"
     ]
    }
   ],
   "source": [
    "starred_response = list(git.search_repositories(\n",
    "  'topic:machine-learning',\n",
    "  order='desc',\n",
    "  sort='stars',\n",
    "  number=100))\n",
    "\n",
    "print(len(starred_response))"
   ]
  },
  {
   "cell_type": "markdown",
   "metadata": {},
   "source": [
    "## Show 10 first search results"
   ]
  },
  {
   "cell_type": "markdown",
   "metadata": {},
   "source": [
    "### Show some basic information for first couple of repos"
   ]
  },
  {
   "cell_type": "code",
   "execution_count": 16,
   "metadata": {},
   "outputs": [
    {
     "data": {
      "text/markdown": [
       "**tensorflow**"
      ],
      "text/plain": [
       "<IPython.core.display.Markdown object>"
      ]
     },
     "metadata": {},
     "output_type": "display_data"
    },
    {
     "name": "stdout",
     "output_type": "stream",
     "text": [
      "starred 95259 times\n",
      "score: 2.7759125\n",
      "last updated at 2018-04-06\n",
      "it has 60821 forks\n"
     ]
    },
    {
     "data": {
      "text/markdown": [
       "**keras**"
      ],
      "text/plain": [
       "<IPython.core.display.Markdown object>"
      ]
     },
     "metadata": {},
     "output_type": "display_data"
    },
    {
     "name": "stdout",
     "output_type": "stream",
     "text": [
      "starred 27920 times\n",
      "score: 2.796562\n",
      "last updated at 2018-04-06\n",
      "it has 10259 forks\n"
     ]
    },
    {
     "data": {
      "text/markdown": [
       "**scikit-learn**"
      ],
      "text/plain": [
       "<IPython.core.display.Markdown object>"
      ]
     },
     "metadata": {},
     "output_type": "display_data"
    },
    {
     "name": "stdout",
     "output_type": "stream",
     "text": [
      "starred 27149 times\n",
      "score: 2.7759125\n",
      "last updated at 2018-04-06\n",
      "it has 13648 forks\n"
     ]
    },
    {
     "data": {
      "text/markdown": [
       "**TensorFlow-Examples**"
      ],
      "text/plain": [
       "<IPython.core.display.Markdown object>"
      ]
     },
     "metadata": {},
     "output_type": "display_data"
    },
    {
     "name": "stdout",
     "output_type": "stream",
     "text": [
      "starred 21253 times\n",
      "score: 2.7862012\n",
      "last updated at 2018-04-06\n",
      "it has 7544 forks\n"
     ]
    },
    {
     "data": {
      "text/markdown": [
       "**machine-learning-for-software-engineers**"
      ],
      "text/plain": [
       "<IPython.core.display.Markdown object>"
      ]
     },
     "metadata": {},
     "output_type": "display_data"
    },
    {
     "name": "stdout",
     "output_type": "stream",
     "text": [
      "starred 18495 times\n",
      "score: 9.651755\n",
      "last updated at 2018-04-06\n",
      "it has 3797 forks\n"
     ]
    },
    {
     "data": {
      "text/markdown": [
       "**tesseract**"
      ],
      "text/plain": [
       "<IPython.core.display.Markdown object>"
      ]
     },
     "metadata": {},
     "output_type": "display_data"
    },
    {
     "name": "stdout",
     "output_type": "stream",
     "text": [
      "starred 17480 times\n",
      "score: 2.793406\n",
      "last updated at 2018-04-06\n",
      "it has 3613 forks\n"
     ]
    },
    {
     "data": {
      "text/markdown": [
       "**awesome-deep-learning-papers**"
      ],
      "text/plain": [
       "<IPython.core.display.Markdown object>"
      ]
     },
     "metadata": {},
     "output_type": "display_data"
    },
    {
     "name": "stdout",
     "output_type": "stream",
     "text": [
      "starred 14304 times\n",
      "score: 2.7891798\n",
      "last updated at 2018-04-06\n",
      "it has 2558 forks\n"
     ]
    },
    {
     "data": {
      "text/markdown": [
       "**CNTK**"
      ],
      "text/plain": [
       "<IPython.core.display.Markdown object>"
      ]
     },
     "metadata": {},
     "output_type": "display_data"
    },
    {
     "name": "stdout",
     "output_type": "stream",
     "text": [
      "starred 14182 times\n",
      "score: 2.793406\n",
      "last updated at 2018-04-06\n",
      "it has 3772 forks\n"
     ]
    },
    {
     "data": {
      "text/markdown": [
       "**incubator-mxnet**"
      ],
      "text/plain": [
       "<IPython.core.display.Markdown object>"
      ]
     },
     "metadata": {},
     "output_type": "display_data"
    },
    {
     "name": "stdout",
     "output_type": "stream",
     "text": [
      "starred 13592 times\n",
      "score: 2.793406\n",
      "last updated at 2018-04-06\n",
      "it has 5025 forks\n"
     ]
    },
    {
     "data": {
      "text/markdown": [
       "**face_recognition**"
      ],
      "text/plain": [
       "<IPython.core.display.Markdown object>"
      ]
     },
     "metadata": {},
     "output_type": "display_data"
    },
    {
     "name": "stdout",
     "output_type": "stream",
     "text": [
      "starred 12448 times\n",
      "score: 2.7887878\n",
      "last updated at 2018-04-06\n",
      "it has 2736 forks\n"
     ]
    }
   ],
   "source": [
    "for search_result in starred_response[:10]:\n",
    "  r = search_result.repository\n",
    "  print_bold(r.name)\n",
    "  print('starred', r.stargazers_count, 'times')\n",
    "  print('score:', search_result.score)\n",
    "  print('last updated at', r.updated_at.date())\n",
    "  print('it has', r.fork_count, 'forks')"
   ]
  },
  {
   "cell_type": "code",
   "execution_count": null,
   "metadata": {
    "collapsed": true
   },
   "outputs": [],
   "source": []
  }
 ],
 "metadata": {
  "hide_input": false,
  "kernelspec": {
   "display_name": "Python 3",
   "language": "python",
   "name": "python3"
  },
  "language_info": {
   "codemirror_mode": {
    "name": "ipython",
    "version": 3
   },
   "file_extension": ".py",
   "mimetype": "text/x-python",
   "name": "python",
   "nbconvert_exporter": "python",
   "pygments_lexer": "ipython3",
   "version": "3.5.1"
  }
 },
 "nbformat": 4,
 "nbformat_minor": 2
}

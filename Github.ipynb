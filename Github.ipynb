{
 "cells": [
  {
   "cell_type": "code",
   "execution_count": 2,
   "metadata": {},
   "outputs": [],
   "source": [
    "from github3 import GitHub\n",
    "\n",
    "from notebook_styling import print_bold"
   ]
  },
  {
   "cell_type": "code",
   "execution_count": 3,
   "metadata": {
    "collapsed": true
   },
   "outputs": [],
   "source": [
    "token = '<YOUR-TOKEN-HERE>'\n",
    "\n",
    "git = GitHub(token)"
   ]
  },
  {
   "cell_type": "code",
   "execution_count": 4,
   "metadata": {},
   "outputs": [
    {
     "name": "stdout",
     "output_type": "stream",
     "text": [
      "100\n"
     ]
    }
   ],
   "source": [
    "starred_response = list(git.search_repositories(\n",
    "  query=\"machine learning\",\n",
    "  order='desc',\n",
    "  sort='stars',\n",
    "  number=100))\n",
    "\n",
    "print(len(starred_response))"
   ]
  },
  {
   "cell_type": "markdown",
   "metadata": {},
   "source": [
    "## Show 10 first search results"
   ]
  },
  {
   "cell_type": "markdown",
   "metadata": {},
   "source": [
    "### Show some basic information for first couple of repos"
   ]
  },
  {
   "cell_type": "code",
   "execution_count": 5,
   "metadata": {},
   "outputs": [
    {
     "data": {
      "text/markdown": [
       "**tensorflow**"
      ],
      "text/plain": [
       "<IPython.core.display.Markdown object>"
      ]
     },
     "metadata": {},
     "output_type": "display_data"
    },
    {
     "name": "stdout",
     "output_type": "stream",
     "text": [
      "starred 85668 times\n",
      "score: 20.535633\n",
      "last updated at 2018-01-14\n",
      "it has 41808 forks\n"
     ]
    },
    {
     "data": {
      "text/markdown": [
       "**awesome-machine-learning**"
      ],
      "text/plain": [
       "<IPython.core.display.Markdown object>"
      ]
     },
     "metadata": {},
     "output_type": "display_data"
    },
    {
     "name": "stdout",
     "output_type": "stream",
     "text": [
      "starred 29297 times\n",
      "score: 37.481983\n",
      "last updated at 2018-01-14\n",
      "it has 7201 forks\n"
     ]
    },
    {
     "data": {
      "text/markdown": [
       "**scikit-learn**"
      ],
      "text/plain": [
       "<IPython.core.display.Markdown object>"
      ]
     },
     "metadata": {},
     "output_type": "display_data"
    },
    {
     "name": "stdout",
     "output_type": "stream",
     "text": [
      "starred 24674 times\n",
      "score: 22.070637\n",
      "last updated at 2018-01-14\n",
      "it has 12727 forks\n"
     ]
    },
    {
     "data": {
      "text/markdown": [
       "**machine-learning-for-software-engineers**"
      ],
      "text/plain": [
       "<IPython.core.display.Markdown object>"
      ]
     },
     "metadata": {},
     "output_type": "display_data"
    },
    {
     "name": "stdout",
     "output_type": "stream",
     "text": [
      "starred 17760 times\n",
      "score: 30.422716\n",
      "last updated at 2018-01-14\n",
      "it has 3492 forks\n"
     ]
    },
    {
     "data": {
      "text/markdown": [
       "**predictionio**"
      ],
      "text/plain": [
       "<IPython.core.display.Markdown object>"
      ]
     },
     "metadata": {},
     "output_type": "display_data"
    },
    {
     "name": "stdout",
     "output_type": "stream",
     "text": [
      "starred 10889 times\n",
      "score: 10.8558655\n",
      "last updated at 2018-01-14\n",
      "it has 1771 forks\n"
     ]
    },
    {
     "data": {
      "text/markdown": [
       "**Qix**"
      ],
      "text/plain": [
       "<IPython.core.display.Markdown object>"
      ]
     },
     "metadata": {},
     "output_type": "display_data"
    },
    {
     "name": "stdout",
     "output_type": "stream",
     "text": [
      "starred 10362 times\n",
      "score: 19.633438\n",
      "last updated at 2018-01-14\n",
      "it has 4210 forks\n"
     ]
    },
    {
     "data": {
      "text/markdown": [
       "**cheatsheets-ai**"
      ],
      "text/plain": [
       "<IPython.core.display.Markdown object>"
      ]
     },
     "metadata": {},
     "output_type": "display_data"
    },
    {
     "name": "stdout",
     "output_type": "stream",
     "text": [
      "starred 8673 times\n",
      "score: 18.038074\n",
      "last updated at 2018-01-14\n",
      "it has 1785 forks\n"
     ]
    },
    {
     "data": {
      "text/markdown": [
       "**python-machine-learning-book**"
      ],
      "text/plain": [
       "<IPython.core.display.Markdown object>"
      ]
     },
     "metadata": {},
     "output_type": "display_data"
    },
    {
     "name": "stdout",
     "output_type": "stream",
     "text": [
      "starred 7851 times\n",
      "score: 33.304188\n",
      "last updated at 2018-01-14\n",
      "it has 2829 forks\n"
     ]
    },
    {
     "data": {
      "text/markdown": [
       "**dive-into-machine-learning**"
      ],
      "text/plain": [
       "<IPython.core.display.Markdown object>"
      ]
     },
     "metadata": {},
     "output_type": "display_data"
    },
    {
     "name": "stdout",
     "output_type": "stream",
     "text": [
      "starred 7737 times\n",
      "score: 36.24262\n",
      "last updated at 2018-01-14\n",
      "it has 1300 forks\n"
     ]
    },
    {
     "data": {
      "text/markdown": [
       "**ML-From-Scratch**"
      ],
      "text/plain": [
       "<IPython.core.display.Markdown object>"
      ]
     },
     "metadata": {},
     "output_type": "display_data"
    },
    {
     "name": "stdout",
     "output_type": "stream",
     "text": [
      "starred 7641 times\n",
      "score: 11.34413\n",
      "last updated at 2018-01-14\n",
      "it has 983 forks\n"
     ]
    }
   ],
   "source": [
    "for search_result in starred_response[:10]:\n",
    "  r = search_result.repository\n",
    "  print_bold(r.name)\n",
    "  print('starred', r.stargazers_count, 'times')\n",
    "  print('score:', search_result.score)\n",
    "  print('last updated at', r.updated_at.date())\n",
    "  print('it has', r.fork_count, 'forks')"
   ]
  }
 ],
 "metadata": {
  "hide_input": false,
  "kernelspec": {
   "display_name": "Python 3",
   "language": "python",
   "name": "python3"
  },
  "language_info": {
   "codemirror_mode": {
    "name": "ipython",
    "version": 3
   },
   "file_extension": ".py",
   "mimetype": "text/x-python",
   "name": "python",
   "nbconvert_exporter": "python",
   "pygments_lexer": "ipython3",
   "version": "3.5.1"
  }
 },
 "nbformat": 4,
 "nbformat_minor": 2
}

{
 "cells": [
  {
   "cell_type": "code",
   "execution_count": 1,
   "metadata": {},
   "outputs": [],
   "source": [
    "%matplotlib inline\n",
    "import matplotlib.pyplot as plt\n",
    "\n",
    "import pandas as pd\n",
    "\n",
    "import urllib.request\n",
    "import arxiv\n",
    "\n",
    "from collections import Counter\n",
    "\n",
    "from notebook_styling import print_bold"
   ]
  },
  {
   "cell_type": "markdown",
   "metadata": {},
   "source": [
    "## Query arXiv. \n",
    "\n",
    "Change seqrch_query if you're interested in something else "
   ]
  },
  {
   "cell_type": "code",
   "execution_count": 2,
   "metadata": {},
   "outputs": [
    {
     "name": "stdout",
     "output_type": "stream",
     "text": [
      "Query returned 1000 results\n",
      "CPU times: user 3.61 s, sys: 52 ms, total: 3.66 s\n",
      "Wall time: 15.7 s\n"
     ]
    }
   ],
   "source": [
    "%%time\n",
    "\n",
    "search_query = 'machine learning'\n",
    "\n",
    "results = arxiv.query(search_query=search_query,\n",
    "                          max_results=1000)\n",
    "\n",
    "print('Query returned {} results'.format(len(results)))"
   ]
  },
  {
   "cell_type": "markdown",
   "metadata": {},
   "source": [
    "#### Show some basic information on the articles"
   ]
  },
  {
   "cell_type": "code",
   "execution_count": 3,
   "metadata": {
    "scrolled": false
   },
   "outputs": [
    {
     "data": {
      "text/markdown": [
       "**Minimax deviation strategies for machine learning and recognition with\n",
       "  short learning samples**"
      ],
      "text/plain": [
       "<IPython.core.display.Markdown object>"
      ]
     },
     "metadata": {},
     "output_type": "display_data"
    },
    {
     "name": "stdout",
     "output_type": "stream",
     "text": [
      "Michail Schlesinger, Evgeniy Vodolazskiy\n",
      "2017-07-16T09:15:08Z\n",
      "The article is devoted to the problem of small learning samples in machine\n",
      "learning. The flaws of maximum likelihood learning and minimax learning are\n",
      "looked into and the concept of minimax deviation learning is introduced that is\n",
      "free of those flaws.\n",
      "\n"
     ]
    },
    {
     "data": {
      "text/markdown": [
       "**MLBench: How Good Are Machine Learning Clouds for Binary Classification\n",
       "  Tasks on Structured Data?**"
      ],
      "text/plain": [
       "<IPython.core.display.Markdown object>"
      ]
     },
     "metadata": {},
     "output_type": "display_data"
    },
    {
     "name": "stdout",
     "output_type": "stream",
     "text": [
      "Yu Liu, Hantian Zhang, Luyuan Zeng, Wentao Wu, Ce Zhang\n",
      "2017-10-16T11:13:32Z\n",
      "We conduct an empirical study of machine learning functionalities provided by\n",
      "major cloud service providers, which we call machine learning clouds. Machine\n",
      "learning clouds hold the promise of hiding all the sophistication of running\n",
      "large-scale machine learning: Instead of specifying how to run a machine\n",
      "learning task, users only specify what machine learning task to run and the\n",
      "cloud figures out the rest. Raising the level of abstraction, however, rarely\n",
      "comes free - a performance penalty is possible. How good, then, are current\n",
      "machine learning clouds on real-world machine learning workloads?\n",
      "  We study this question with a focus on binary classication problems. We\n",
      "present mlbench, a novel benchmark constructed by harvesting datasets from\n",
      "Kaggle competitions. We then compare the performance of the top winning code\n",
      "available from Kaggle with that of running machine learning clouds from both\n",
      "Azure and Amazon on mlbench. Our comparative study reveals the strength and\n",
      "weakness of existing machine learning clouds and points out potential future\n",
      "directions for improvement.\n",
      "\n"
     ]
    },
    {
     "data": {
      "text/markdown": [
       "**Introduction to Machine Learning: Class Notes 67577**"
      ],
      "text/plain": [
       "<IPython.core.display.Markdown object>"
      ]
     },
     "metadata": {},
     "output_type": "display_data"
    },
    {
     "name": "stdout",
     "output_type": "stream",
     "text": [
      "Amnon Shashua\n",
      "2009-04-23T11:40:57Z\n",
      "Introduction to Machine learning covering Statistical Inference (Bayes, EM,\n",
      "ML/MaxEnt duality), algebraic and spectral methods (PCA, LDA, CCA, Clustering),\n",
      "and PAC learning (the Formal model, VC dimension, Double Sampling theorem).\n",
      "\n"
     ]
    },
    {
     "data": {
      "text/markdown": [
       "**AutoCompete: A Framework for Machine Learning Competition**"
      ],
      "text/plain": [
       "<IPython.core.display.Markdown object>"
      ]
     },
     "metadata": {},
     "output_type": "display_data"
    },
    {
     "name": "stdout",
     "output_type": "stream",
     "text": [
      "Abhishek Thakur, Artus Krohn-Grimberghe\n",
      "2015-07-08T15:07:39Z\n",
      "In this paper, we propose AutoCompete, a highly automated machine learning\n",
      "framework for tackling machine learning competitions. This framework has been\n",
      "learned by us, validated and improved over a period of more than two years by\n",
      "participating in online machine learning competitions. It aims at minimizing\n",
      "human interference required to build a first useful predictive model and to\n",
      "assess the practical difficulty of a given machine learning challenge. The\n",
      "proposed system helps in identifying data types, choosing a machine learn- ing\n",
      "model, tuning hyper-parameters, avoiding over-fitting and optimization for a\n",
      "provided evaluation metric. We also observe that the proposed system produces\n",
      "better (or comparable) results with less runtime as compared to other\n",
      "approaches.\n",
      "\n"
     ]
    },
    {
     "data": {
      "text/markdown": [
       "**Joint Training of Deep Boltzmann Machines**"
      ],
      "text/plain": [
       "<IPython.core.display.Markdown object>"
      ]
     },
     "metadata": {},
     "output_type": "display_data"
    },
    {
     "name": "stdout",
     "output_type": "stream",
     "text": [
      "Ian Goodfellow, Aaron Courville, Yoshua Bengio\n",
      "2012-12-12T01:59:27Z\n",
      "We introduce a new method for training deep Boltzmann machines jointly. Prior\n",
      "methods require an initial learning pass that trains the deep Boltzmann machine\n",
      "greedily, one layer at a time, or do not perform well on classifi- cation\n",
      "tasks.\n",
      "\n"
     ]
    },
    {
     "data": {
      "text/markdown": [
       "**Proceedings of the 2016 ICML Workshop on #Data4Good: Machine Learning in\n",
       "  Social Good Applications**"
      ],
      "text/plain": [
       "<IPython.core.display.Markdown object>"
      ]
     },
     "metadata": {},
     "output_type": "display_data"
    },
    {
     "name": "stdout",
     "output_type": "stream",
     "text": [
      "Kush R. Varshney\n",
      "2016-08-28T15:23:47Z\n",
      "This is the Proceedings of the ICML Workshop on #Data4Good: Machine Learning\n",
      "in Social Good Applications, which was held on June 24, 2016 in New York.\n",
      "\n"
     ]
    },
    {
     "data": {
      "text/markdown": [
       "**Temporal-related Convolutional-Restricted-Boltzmann-Machine capable of\n",
       "  learning relational order via reinforcement learning procedure?**"
      ],
      "text/plain": [
       "<IPython.core.display.Markdown object>"
      ]
     },
     "metadata": {},
     "output_type": "display_data"
    },
    {
     "name": "stdout",
     "output_type": "stream",
     "text": [
      "Zizhuang Wang\n",
      "2017-06-24T20:56:27Z\n",
      "In this article, we extend the conventional framework of\n",
      "convolutional-Restricted-Boltzmann-Machine to learn highly abstract features\n",
      "among abitrary number of time related input maps by constructing a layer of\n",
      "multiplicative units, which capture the relations among inputs. In many cases,\n",
      "more than two maps are strongly related, so it is wise to make multiplicative\n",
      "unit learn relations among more input maps, in other words, to find the optimal\n",
      "relational-order of each unit. In order to enable our machine to learn\n",
      "relational order, we developed a reinforcement-learning method whose optimality\n",
      "is proven to train the network.\n",
      "\n"
     ]
    },
    {
     "data": {
      "text/markdown": [
       "**An Aggregate and Iterative Disaggregate Algorithm with Proven Optimality\n",
       "  in Machine Learning**"
      ],
      "text/plain": [
       "<IPython.core.display.Markdown object>"
      ]
     },
     "metadata": {},
     "output_type": "display_data"
    },
    {
     "name": "stdout",
     "output_type": "stream",
     "text": [
      "Young Woong Park, Diego Klabjan\n",
      "2016-07-05T20:04:57Z\n",
      "We propose a clustering-based iterative algorithm to solve certain\n",
      "optimization problems in machine learning, where we start the algorithm by\n",
      "aggregating the original data, solving the problem on aggregated data, and then\n",
      "in subsequent steps gradually disaggregate the aggregated data. We apply the\n",
      "algorithm to common machine learning problems such as the least absolute\n",
      "deviation regression problem, support vector machines, and semi-supervised\n",
      "support vector machines. We derive model-specific data aggregation and\n",
      "disaggregation procedures. We also show optimality, convergence, and the\n",
      "optimality gap of the approximated solution in each iteration. A computational\n",
      "study is provided.\n",
      "\n"
     ]
    },
    {
     "data": {
      "text/markdown": [
       "**Bayesian Optimization for Machine Learning : A Practical Guidebook**"
      ],
      "text/plain": [
       "<IPython.core.display.Markdown object>"
      ]
     },
     "metadata": {},
     "output_type": "display_data"
    },
    {
     "name": "stdout",
     "output_type": "stream",
     "text": [
      "Ian Dewancker, Michael McCourt, Scott Clark\n",
      "2016-12-14T22:04:33Z\n",
      "The engineering of machine learning systems is still a nascent field; relying\n",
      "on a seemingly daunting collection of quickly evolving tools and best\n",
      "practices. It is our hope that this guidebook will serve as a useful resource\n",
      "for machine learning practitioners looking to take advantage of Bayesian\n",
      "optimization techniques. We outline four example machine learning problems that\n",
      "can be solved using open source machine learning libraries, and highlight the\n",
      "benefits of using Bayesian optimization in the context of these common machine\n",
      "learning applications.\n",
      "\n"
     ]
    },
    {
     "data": {
      "text/markdown": [
       "**Towards A Rigorous Science of Interpretable Machine Learning**"
      ],
      "text/plain": [
       "<IPython.core.display.Markdown object>"
      ]
     },
     "metadata": {},
     "output_type": "display_data"
    },
    {
     "name": "stdout",
     "output_type": "stream",
     "text": [
      "Finale Doshi-Velez, Been Kim\n",
      "2017-03-02T19:32:10Z\n",
      "As machine learning systems become ubiquitous, there has been a surge of\n",
      "interest in interpretable machine learning: systems that provide explanation\n",
      "for their outputs. These explanations are often used to qualitatively assess\n",
      "other criteria such as safety or non-discrimination. However, despite the\n",
      "interest in interpretability, there is very little consensus on what\n",
      "interpretable machine learning is and how it should be measured. In this\n",
      "position paper, we first define interpretability and describe when\n",
      "interpretability is needed (and when it is not). Next, we suggest a taxonomy\n",
      "for rigorous evaluation and expose open questions towards a more rigorous\n",
      "science of interpretable machine learning.\n",
      "\n"
     ]
    }
   ],
   "source": [
    "for entry in results[:10]:\n",
    "  print_bold(entry['title'])\n",
    "  print(', '.join(entry['authors']))\n",
    "  print(entry['date'])\n",
    "  print(entry['summary'])\n",
    "  print()"
   ]
  },
  {
   "cell_type": "markdown",
   "metadata": {},
   "source": [
    "### Papers' categories.\n",
    "\n",
    "See [arXiv categories](http://arxitics.com/help/categories) for details."
   ]
  },
  {
   "cell_type": "code",
   "execution_count": 4,
   "metadata": {
    "collapsed": true
   },
   "outputs": [],
   "source": [
    "category_prefix_counter = Counter(\n",
    "  entry['arxiv_primary_category']['term'].split('.')[0] for entry in results)\n",
    "\n",
    "category_counter = Counter(\n",
    "  entry['arxiv_primary_category']['term'] for entry in results)"
   ]
  },
  {
   "cell_type": "code",
   "execution_count": 5,
   "metadata": {
    "collapsed": true
   },
   "outputs": [],
   "source": [
    "categories = sorted(category_counter.items(), key=lambda p: p[1], reverse=True)"
   ]
  },
  {
   "cell_type": "code",
   "execution_count": 6,
   "metadata": {
    "scrolled": false
   },
   "outputs": [
    {
     "data": {
      "image/png": "[encoded data removed]",
      "text/plain": [
       "<matplotlib.figure.Figure at 0x7fafe1956048>"
      ]
     },
     "metadata": {},
     "output_type": "display_data"
    }
   ],
   "source": [
    "pd.DataFrame.from_dict(\n",
    "  data=dict(categories[:50]),\n",
    "  orient='index').plot.bar()\n",
    "plt.show()"
   ]
  },
  {
   "cell_type": "markdown",
   "metadata": {},
   "source": [
    "## Category prefixes\n",
    "\n",
    "We cluster categories to get a more high-level description of categories."
   ]
  },
  {
   "cell_type": "code",
   "execution_count": 7,
   "metadata": {
    "collapsed": true
   },
   "outputs": [],
   "source": [
    "category_prefixes = sorted(category_prefix_counter.items(), key=lambda p: p[1], reverse=True)"
   ]
  },
  {
   "cell_type": "code",
   "execution_count": 8,
   "metadata": {},
   "outputs": [
    {
     "data": {
      "image/png": "[encoded data removed]",
      "text/plain": [
       "<matplotlib.figure.Figure at 0x7fafe187c7b8>"
      ]
     },
     "metadata": {},
     "output_type": "display_data"
    }
   ],
   "source": [
    "pd.DataFrame.from_dict(data=category_prefix_counter, orient='index').plot.bar()\n",
    "plt.show()"
   ]
  }
 ],
 "metadata": {
  "hide_input": false,
  "kernelspec": {
   "display_name": "Python 3",
   "language": "python",
   "name": "python3"
  },
  "language_info": {
   "codemirror_mode": {
    "name": "ipython",
    "version": 3
   },
   "file_extension": ".py",
   "mimetype": "text/x-python",
   "name": "python",
   "nbconvert_exporter": "python",
   "pygments_lexer": "ipython3",
   "version": "3.5.1"
  }
 },
 "nbformat": 4,
 "nbformat_minor": 2
}
